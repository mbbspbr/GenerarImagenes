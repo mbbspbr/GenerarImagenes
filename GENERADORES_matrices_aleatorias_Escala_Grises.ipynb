{
  "nbformat": 4,
  "nbformat_minor": 0,
  "metadata": {
    "colab": {
      "name": "GENERADORES matrices aleatorias Escala Grises.ipynb",
      "provenance": [],
      "collapsed_sections": [],
      "include_colab_link": true
    },
    "kernelspec": {
      "name": "python3",
      "display_name": "Python 3"
    },
    "accelerator": "GPU"
  },
  "cells": [
    {
      "cell_type": "markdown",
      "metadata": {
        "id": "view-in-github",
        "colab_type": "text"
      },
      "source": [
        "<a href=\"https://colab.research.google.com/github/mbbspbr/GenerarImagenes/blob/master/GENERADORES_matrices_aleatorias_Escala_Grises.ipynb\" target=\"_parent\"><img src=\"https://colab.research.google.com/assets/colab-badge.svg\" alt=\"Open In Colab\"/></a>"
      ]
    },
    {
      "cell_type": "code",
      "metadata": {
        "id": "Qrr_fpEpOxV0",
        "colab_type": "code",
        "outputId": "2afbe036-95b3-4ddf-e29e-c428d9c40c43",
        "colab": {
          "base_uri": "https://localhost:8080/",
          "height": 0
        }
      },
      "source": [
        "%tensorflow_version 2.x\n",
        "import tensorflow as tf\n",
        "import keras\n",
        "import numpy as np\n",
        "import matplotlib\n",
        "import matplotlib.pyplot as plt\n",
        "import os"
      ],
      "execution_count": 1,
      "outputs": [
        {
          "output_type": "stream",
          "text": [
            "Using TensorFlow backend.\n"
          ],
          "name": "stderr"
        }
      ]
    },
    {
      "cell_type": "code",
      "metadata": {
        "id": "TbWp3SNhO3Es",
        "colab_type": "code",
        "outputId": "f043af21-92cc-41d2-c780-8b478e7a0bad",
        "colab": {
          "base_uri": "https://localhost:8080/",
          "height": 0
        }
      },
      "source": [
        "from google.colab import drive\n",
        "drive.mount(\"/content/drive\", force_remount=True)"
      ],
      "execution_count": 2,
      "outputs": [
        {
          "output_type": "stream",
          "text": [
            "Go to this URL in a browser: https://accounts.google.com/o/oauth2/auth?client_id=947318989803-6bn6qk8qdgf4n4g3pfee6491hc0brc4i.apps.googleusercontent.com&redirect_uri=urn%3aietf%3awg%3aoauth%3a2.0%3aoob&response_type=code&scope=email%20https%3a%2f%2fwww.googleapis.com%2fauth%2fdocs.test%20https%3a%2f%2fwww.googleapis.com%2fauth%2fdrive%20https%3a%2f%2fwww.googleapis.com%2fauth%2fdrive.photos.readonly%20https%3a%2f%2fwww.googleapis.com%2fauth%2fpeopleapi.readonly\n",
            "\n",
            "Enter your authorization code:\n",
            "··········\n",
            "Mounted at /content/drive\n"
          ],
          "name": "stdout"
        }
      ]
    },
    {
      "cell_type": "code",
      "metadata": {
        "id": "QVRCV1KgO3HO",
        "colab_type": "code",
        "outputId": "b8a0793c-2eea-4c42-dbf8-c8f12ddae362",
        "colab": {
          "base_uri": "https://localhost:8080/",
          "height": 0
        }
      },
      "source": [
        "cd content/drive/My\\ Drive"
      ],
      "execution_count": 5,
      "outputs": [
        {
          "output_type": "stream",
          "text": [
            "/content/drive/My Drive\n"
          ],
          "name": "stdout"
        }
      ]
    },
    {
      "cell_type": "code",
      "metadata": {
        "id": "czKS40TKO3KI",
        "colab_type": "code",
        "outputId": "2064cacf-325a-4264-b4d2-a00a1befe7d4",
        "colab": {
          "base_uri": "https://localhost:8080/",
          "height": 0
        }
      },
      "source": [
        "cd 0Pruebas/Fondo_hipodenso/"
      ],
      "execution_count": 6,
      "outputs": [
        {
          "output_type": "stream",
          "text": [
            "/content/drive/My Drive/0Pruebas/Fondo_hipodenso\n"
          ],
          "name": "stdout"
        }
      ]
    },
    {
      "cell_type": "code",
      "metadata": {
        "id": "vnYzZ3fOO3M0",
        "colab_type": "code",
        "colab": {}
      },
      "source": [
        "import random\n",
        "import numpy as np\n",
        "import cv2\n",
        " "
      ],
      "execution_count": 0,
      "outputs": []
    },
    {
      "cell_type": "code",
      "metadata": {
        "id": "kvUc8W9GO3QB",
        "colab_type": "code",
        "outputId": "333e36cf-8919-47cd-8ca9-64d6d945a100",
        "colab": {
          "base_uri": "https://localhost:8080/",
          "height": 34
        }
      },
      "source": [
        "# creamos una matriz en COLOR 100x100 con todos los colores en blanco\n",
        "img = np.zeros((100,100,3),np.uint8)\n",
        " \n",
        "# recorremos cada uno de los elementos\n",
        "for x in range(100):\n",
        "    for y in range(100):\n",
        " \n",
        "        # Cambiamos el color de cada uno de los pixeles de forma aleatoria\n",
        "        img[x,y] = [random.randint(0,256),random.randint(0,256),random.randint(0,256)]\n",
        " \n",
        "# guardamos la imagen jpeg\n",
        "cv2.imwrite(\"01imagen_COLOR.jpeg\",img)"
      ],
      "execution_count": 0,
      "outputs": [
        {
          "output_type": "execute_result",
          "data": {
            "text/plain": [
              "True"
            ]
          },
          "metadata": {
            "tags": []
          },
          "execution_count": 12
        }
      ]
    },
    {
      "cell_type": "code",
      "metadata": {
        "id": "vVhHqvgGQUSP",
        "colab_type": "code",
        "colab": {}
      },
      "source": [
        ""
      ],
      "execution_count": 0,
      "outputs": []
    },
    {
      "cell_type": "code",
      "metadata": {
        "colab_type": "code",
        "outputId": "8d26c06e-1c97-4fce-dcd5-0e5c34262be3",
        "id": "wScUtW64Qvdt",
        "colab": {
          "base_uri": "https://localhost:8080/",
          "height": 34
        }
      },
      "source": [
        "# creamos una matriz en ESCALA DE GRISES 100x100 con todos los colores en blanco\n",
        "img = np.zeros((100,100,1),np.uint8)\n",
        " \n",
        "# recorremos cada uno de los elementos\n",
        "for x in range(100):\n",
        "    for y in range(100):\n",
        " \n",
        "        # Cambiamos el color de cada uno de los pixeles de forma aleatoria\n",
        "        img[x,y] = [random.randint(0,256)]\n",
        " \n",
        "# guardamos la imagen jpeg\n",
        "cv2.imwrite(\"01imagen_GREY.jpeg\",img)"
      ],
      "execution_count": 0,
      "outputs": [
        {
          "output_type": "execute_result",
          "data": {
            "text/plain": [
              "True"
            ]
          },
          "metadata": {
            "tags": []
          },
          "execution_count": 13
        }
      ]
    },
    {
      "cell_type": "markdown",
      "metadata": {
        "id": "R50gFcCyRNlQ",
        "colab_type": "text"
      },
      "source": [
        "Pruebas para modificar la matriz"
      ]
    },
    {
      "cell_type": "code",
      "metadata": {
        "id": "bG4LjxcYb0QO",
        "colab_type": "code",
        "outputId": "0924c766-c14e-4df5-caa8-ae7dcd5fa504",
        "colab": {
          "base_uri": "https://localhost:8080/",
          "height": 0
        }
      },
      "source": [
        "# creamos una matriz en ESCALA DE GRISES 150x150 con todos los colores en blanco\n",
        "img = np.zeros((400,400,1),np.uint8)\n",
        " \n",
        "# recorremos cada uno de los elementos\n",
        "for x in range(400):\n",
        "    for y in range(400):\n",
        "      if (x>180 and x<220) and (y>180 and y<220):\n",
        "        # Cambiamos el color de cada uno de los pixeles de forma aleatoria\n",
        "        img[x,y] = [random.randint(0,113)]\n",
        "      else :\n",
        "        # Cambiamos el color de cada uno de los pixeles de forma aleatoria\n",
        "        img[x,y] = [random.randint(0,100)]\n",
        "# guardamos la imagen jpeg\n",
        "cv2.imwrite(\"fondo_hipodenso_hiper_13%.jpeg\",img)"
      ],
      "execution_count": 22,
      "outputs": [
        {
          "output_type": "execute_result",
          "data": {
            "text/plain": [
              "True"
            ]
          },
          "metadata": {
            "tags": []
          },
          "execution_count": 22
        }
      ]
    },
    {
      "cell_type": "code",
      "metadata": {
        "id": "6wyXVG0WvmwV",
        "colab_type": "code",
        "colab": {}
      },
      "source": [
        "import random\n",
        "import numpy as np\n",
        "import cv2"
      ],
      "execution_count": 0,
      "outputs": []
    },
    {
      "cell_type": "markdown",
      "metadata": {
        "id": "temR1czlCUsw",
        "colab_type": "text"
      },
      "source": [
        "Generar Matriz con rango completo de 0 a 255"
      ]
    },
    {
      "cell_type": "code",
      "metadata": {
        "colab_type": "code",
        "id": "TQs8vc01_UjS",
        "colab": {}
      },
      "source": [
        "\n",
        "n=750\n",
        "for i in range(n):\n",
        "     # creamos una matriz en ESCALA DE GRISES 150x150 \n",
        "     img = np.zeros((150,150,1),np.uint8)\n",
        "       # recorremos cada uno de los elementos\n",
        "     for x in range(150):\n",
        "       for y in range(150):\n",
        "         if (x>85 and x<101) and (y>40 and y<56):\n",
        "          # Cambiamos el color de cada uno de los pixeles de forma aleatoria\n",
        "            img[x,y] = [random.randint(0,256)]\n",
        "         else :\n",
        "        # Cambiamos el color de cada uno de los pixeles de forma aleatoria\n",
        "           img[x,y] = [random.randint(0,256)]\n",
        "     # guardamos la imagen jpeg\n",
        "     nombre=f\"validation/label_1/validation_label_1_ {i}.jpeg\"\n",
        "     cv2.imwrite(nombre,img)"
      ],
      "execution_count": 0,
      "outputs": []
    },
    {
      "cell_type": "code",
      "metadata": {
        "id": "Qtn57WBrvm2U",
        "colab_type": "code",
        "colab": {}
      },
      "source": [
        "Generar Matriz con rango limitado 20 % POSICION 1 "
      ],
      "execution_count": 0,
      "outputs": []
    },
    {
      "cell_type": "code",
      "metadata": {
        "colab_type": "code",
        "id": "CNgjC2lxCq8z",
        "colab": {}
      },
      "source": [
        "n=75\n",
        "for i in range(n):\n",
        "     # creamos una matriz en ESCALA DE GRISES 150x150 \n",
        "     img = np.zeros((150,150,1),np.uint8)\n",
        "       # recorremos cada uno de los elementos\n",
        "     for x in range(150):\n",
        "       for y in range(150):\n",
        "         if (x>10 and x<26) and (y>10 and y<26):\n",
        "          # Cambiamos el color de cada uno de los pixeles de forma aleatoria\n",
        "            img[x,y] = [random.randint(26,230)]\n",
        "         else :\n",
        "        # Cambiamos el color de cada uno de los pixeles de forma aleatoria\n",
        "           img[x,y] = [random.randint(0,256)]\n",
        "     # guardamos la imagen jpeg\n",
        "     nombre=f\"test/label_2/01test_label_2_ {i}.jpeg\"\n",
        "     cv2.imwrite(nombre,img)"
      ],
      "execution_count": 0,
      "outputs": []
    },
    {
      "cell_type": "markdown",
      "metadata": {
        "id": "YgUVSB33DT5k",
        "colab_type": "text"
      },
      "source": [
        "Generar Matriz con rango limitado 20 % POSICION 2"
      ]
    },
    {
      "cell_type": "code",
      "metadata": {
        "colab_type": "code",
        "id": "Qg70JJJPDcW8",
        "colab": {}
      },
      "source": [
        "n=75\n",
        "for i in range(n):\n",
        "     # creamos una matriz en ESCALA DE GRISES 150x150 \n",
        "     img = np.zeros((150,150,1),np.uint8)\n",
        "       # recorremos cada uno de los elementos\n",
        "     for x in range(150):\n",
        "       for y in range(150):\n",
        "         if (x>10 and x<26) and (y>67 and y<83):\n",
        "          # Cambiamos el color de cada uno de los pixeles de forma aleatoria\n",
        "            img[x,y] = [random.randint(26,230)]\n",
        "         else :\n",
        "        # Cambiamos el color de cada uno de los pixeles de forma aleatoria\n",
        "           img[x,y] = [random.randint(0,256)]\n",
        "     # guardamos la imagen jpeg\n",
        "     nombre=f\"test/label_2/02test_label_2_ {i}.jpeg\"\n",
        "     cv2.imwrite(nombre,img)"
      ],
      "execution_count": 0,
      "outputs": []
    },
    {
      "cell_type": "markdown",
      "metadata": {
        "id": "-ir_0ZE2Eg2K",
        "colab_type": "text"
      },
      "source": [
        "Generar Matriz con rango limitado 20 % POSICION 3"
      ]
    },
    {
      "cell_type": "code",
      "metadata": {
        "colab_type": "code",
        "id": "mv6IIHFkDvn2",
        "colab": {}
      },
      "source": [
        "\n",
        "n=75\n",
        "for i in range(n):\n",
        "     # creamos una matriz en ESCALA DE GRISES 150x150 \n",
        "     img = np.zeros((150,150,1),np.uint8)\n",
        "       # recorremos cada uno de los elementos\n",
        "     for x in range(150):\n",
        "       for y in range(150):\n",
        "         if (x>10 and x<26) and (y>110 and y<126):\n",
        "          # Cambiamos el color de cada uno de los pixeles de forma aleatoria\n",
        "            img[x,y] = [random.randint(26,230)]\n",
        "         else :\n",
        "        # Cambiamos el color de cada uno de los pixeles de forma aleatoria\n",
        "           img[x,y] = [random.randint(0,256)]\n",
        "     # guardamos la imagen jpeg\n",
        "     nombre=f\"test/label_2/03test_label_2_ {i}.jpeg\"\n",
        "     cv2.imwrite(nombre,img)"
      ],
      "execution_count": 0,
      "outputs": []
    },
    {
      "cell_type": "markdown",
      "metadata": {
        "id": "3455eJnTEoCg",
        "colab_type": "text"
      },
      "source": [
        "Generar Matriz con rango limitado 20 % POSICION 4"
      ]
    },
    {
      "cell_type": "code",
      "metadata": {
        "colab_type": "code",
        "id": "HVzpshe6D44S",
        "colab": {}
      },
      "source": [
        "n=75\n",
        "for i in range(n):\n",
        "     # creamos una matriz en ESCALA DE GRISES 150x150 \n",
        "     img = np.zeros((150,150,1),np.uint8)\n",
        "       # recorremos cada uno de los elementos\n",
        "     for x in range(150):\n",
        "       for y in range(150):\n",
        "         if (x>67 and x<83) and (y>110 and y<126):\n",
        "          # Cambiamos el color de cada uno de los pixeles de forma aleatoria\n",
        "            img[x,y] = [random.randint(26,230)]\n",
        "         else :\n",
        "        # Cambiamos el color de cada uno de los pixeles de forma aleatoria\n",
        "           img[x,y] = [random.randint(0,256)]\n",
        "     # guardamos la imagen jpeg\n",
        "     nombre=f\"test/label_2/04test_label_2_ {i}.jpeg\"\n",
        "     cv2.imwrite(nombre,img)"
      ],
      "execution_count": 0,
      "outputs": []
    },
    {
      "cell_type": "markdown",
      "metadata": {
        "colab_type": "text",
        "id": "8ZFZlUEaFAm9"
      },
      "source": [
        "Generar Matriz con rango limitado 20 % POSICION 5"
      ]
    },
    {
      "cell_type": "code",
      "metadata": {
        "colab_type": "code",
        "id": "anzXEfHIFfwW",
        "colab": {}
      },
      "source": [
        "n=75\n",
        "for i in range(n):\n",
        "     # creamos una matriz en ESCALA DE GRISES 150x150 \n",
        "     img = np.zeros((150,150,1),np.uint8)\n",
        "       # recorremos cada uno de los elementos\n",
        "     for x in range(150):\n",
        "       for y in range(150):\n",
        "         if (x>110 and x<126) and (y>110 and y<126):\n",
        "          # Cambiamos el color de cada uno de los pixeles de forma aleatoria\n",
        "            img[x,y] = [random.randint(26,230)]\n",
        "         else :\n",
        "        # Cambiamos el color de cada uno de los pixeles de forma aleatoria\n",
        "           img[x,y] = [random.randint(0,256)]\n",
        "     # guardamos la imagen jpeg\n",
        "     nombre=f\"test/label_2/05test_label_2_ {i}.jpeg\"\n",
        "     cv2.imwrite(nombre,img)"
      ],
      "execution_count": 0,
      "outputs": []
    },
    {
      "cell_type": "markdown",
      "metadata": {
        "colab_type": "text",
        "id": "K444WD4EFGYt"
      },
      "source": [
        "Generar Matriz con rango limitado 20 % POSICION 6"
      ]
    },
    {
      "cell_type": "code",
      "metadata": {
        "colab_type": "code",
        "id": "jYZxvF6JFnFG",
        "colab": {}
      },
      "source": [
        "n=75\n",
        "for i in range(n):\n",
        "     # creamos una matriz en ESCALA DE GRISES 150x150 \n",
        "     img = np.zeros((150,150,1),np.uint8)\n",
        "       # recorremos cada uno de los elementos\n",
        "     for x in range(150):\n",
        "       for y in range(150):\n",
        "         if (x>110 and x<126) and (y>67 and y<83):\n",
        "          # Cambiamos el color de cada uno de los pixeles de forma aleatoria\n",
        "            img[x,y] = [random.randint(26,230)]\n",
        "         else :\n",
        "        # Cambiamos el color de cada uno de los pixeles de forma aleatoria\n",
        "           img[x,y] = [random.randint(0,256)]\n",
        "     # guardamos la imagen jpeg\n",
        "     nombre=f\"test/label_2/06test_label_2_ {i}.jpeg\"\n",
        "     cv2.imwrite(nombre,img)"
      ],
      "execution_count": 0,
      "outputs": []
    },
    {
      "cell_type": "markdown",
      "metadata": {
        "colab_type": "text",
        "id": "coOuWwoAFIaE"
      },
      "source": [
        "Generar Matriz con rango limitado 20 % POSICION 7"
      ]
    },
    {
      "cell_type": "code",
      "metadata": {
        "colab_type": "code",
        "id": "yoCwco02Fvcy",
        "colab": {}
      },
      "source": [
        "n=75\n",
        "for i in range(n):\n",
        "     # creamos una matriz en ESCALA DE GRISES 150x150 \n",
        "     img = np.zeros((150,150,1),np.uint8)\n",
        "       # recorremos cada uno de los elementos\n",
        "     for x in range(150):\n",
        "       for y in range(150):\n",
        "         if (x>110 and x<126) and (y>10 and y<26):\n",
        "          # Cambiamos el color de cada uno de los pixeles de forma aleatoria\n",
        "            img[x,y] = [random.randint(26,230)]\n",
        "         else :\n",
        "        # Cambiamos el color de cada uno de los pixeles de forma aleatoria\n",
        "           img[x,y] = [random.randint(0,256)]\n",
        "     # guardamos la imagen jpeg\n",
        "     nombre=f\"test/label_2/07test_label_2_ {i}.jpeg\"\n",
        "     cv2.imwrite(nombre,img)"
      ],
      "execution_count": 0,
      "outputs": []
    },
    {
      "cell_type": "markdown",
      "metadata": {
        "colab_type": "text",
        "id": "llyEjYnkFWni"
      },
      "source": [
        "Generar Matriz con rango limitado 20 % POSICION 8"
      ]
    },
    {
      "cell_type": "code",
      "metadata": {
        "colab_type": "code",
        "id": "aHrvpstJF2A0",
        "colab": {}
      },
      "source": [
        "n=75\n",
        "for i in range(n):\n",
        "     # creamos una matriz en ESCALA DE GRISES 150x150 \n",
        "     img = np.zeros((150,150,1),np.uint8)\n",
        "       # recorremos cada uno de los elementos\n",
        "     for x in range(150):\n",
        "       for y in range(150):\n",
        "         if (x>67 and x<83) and (y>10 and y<26):\n",
        "          # Cambiamos el color de cada uno de los pixeles de forma aleatoria\n",
        "            img[x,y] = [random.randint(26,230)]\n",
        "         else :\n",
        "        # Cambiamos el color de cada uno de los pixeles de forma aleatoria\n",
        "           img[x,y] = [random.randint(0,256)]\n",
        "     # guardamos la imagen jpeg\n",
        "     nombre=f\"test/label_2/08test_label_2_ {i}.jpeg\"\n",
        "     cv2.imwrite(nombre,img)"
      ],
      "execution_count": 0,
      "outputs": []
    },
    {
      "cell_type": "markdown",
      "metadata": {
        "colab_type": "text",
        "id": "kJAECgeAFYWE"
      },
      "source": [
        "Generar Matriz con rango limitado 20 % POSICION 9"
      ]
    },
    {
      "cell_type": "code",
      "metadata": {
        "colab_type": "code",
        "id": "JwQRDinBF5A5",
        "colab": {}
      },
      "source": [
        "n=75\n",
        "for i in range(n):\n",
        "     # creamos una matriz en ESCALA DE GRISES 150x150 \n",
        "     img = np.zeros((150,150,1),np.uint8)\n",
        "       # recorremos cada uno de los elementos\n",
        "     for x in range(150):\n",
        "       for y in range(150):\n",
        "         if (x>67 and x<83) and (y>67 and y<83):\n",
        "          # Cambiamos el color de cada uno de los pixeles de forma aleatoria\n",
        "            img[x,y] = [random.randint(26,230)]\n",
        "         else :\n",
        "        # Cambiamos el color de cada uno de los pixeles de forma aleatoria\n",
        "           img[x,y] = [random.randint(0,256)]\n",
        "     # guardamos la imagen jpeg\n",
        "     nombre=f\"test/label_2/09test_label_2_ {i}.jpeg\"\n",
        "     cv2.imwrite(nombre,img)"
      ],
      "execution_count": 0,
      "outputs": []
    },
    {
      "cell_type": "markdown",
      "metadata": {
        "colab_type": "text",
        "id": "wByHo7IPFagM"
      },
      "source": [
        "Generar Matriz con rango limitado 20 % POSICION 10\n",
        "\n",
        "---\n",
        "\n"
      ]
    },
    {
      "cell_type": "code",
      "metadata": {
        "colab_type": "code",
        "id": "_H_61_c3F-Ye",
        "colab": {}
      },
      "source": [
        "n=75\n",
        "for i in range(n):\n",
        "     # creamos una matriz en ESCALA DE GRISES 150x150 \n",
        "     img = np.zeros((150,150,1),np.uint8)\n",
        "       # recorremos cada uno de los elementos\n",
        "     for x in range(150):\n",
        "       for y in range(150):\n",
        "         if (x>85 and x<101) and (y>40 and y<56):\n",
        "          # Cambiamos el color de cada uno de los pixeles de forma aleatoria\n",
        "            img[x,y] = [random.randint(26,230)]\n",
        "         else :\n",
        "        # Cambiamos el color de cada uno de los pixeles de forma aleatoria\n",
        "           img[x,y] = [random.randint(0,256)]\n",
        "     # guardamos la imagen jpeg\n",
        "     nombre=f\"test/label_2/10test_label_2_ {i}.jpeg\"\n",
        "     cv2.imwrite(nombre,img)"
      ],
      "execution_count": 0,
      "outputs": []
    }
  ]
}